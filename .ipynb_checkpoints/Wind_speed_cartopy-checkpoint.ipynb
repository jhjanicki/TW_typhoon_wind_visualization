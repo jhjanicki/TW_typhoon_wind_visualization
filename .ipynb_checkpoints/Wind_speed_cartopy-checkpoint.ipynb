{
 "cells": [
  {
   "cell_type": "markdown",
   "id": "d3fa6eb9",
   "metadata": {},
   "source": [
    "# Install libraries"
   ]
  },
  {
   "cell_type": "code",
   "execution_count": 1,
   "id": "e5ea7d8b",
   "metadata": {},
   "outputs": [],
   "source": [
    "import os\n",
    "import matplotlib.pyplot as plt\n",
    "from netCDF4 import Dataset as netcdf_dataset\n",
    "import numpy as np\n",
    "import cartopy\n",
    "from cartopy import config\n",
    "import cartopy.crs as ccrs\n",
    "import cartopy.feature as cfeature"
   ]
  },
  {
   "cell_type": "markdown",
   "id": "d9f2ab78",
   "metadata": {},
   "source": [
    "# Load & examine dataset"
   ]
  },
  {
   "cell_type": "code",
   "execution_count": 2,
   "id": "75f06bd4",
   "metadata": {},
   "outputs": [],
   "source": [
    "fname = 'gdas.t00z.sfluxgrbf000..nc'"
   ]
  },
  {
   "cell_type": "code",
   "execution_count": 3,
   "id": "b7db2b29",
   "metadata": {},
   "outputs": [],
   "source": [
    "dataset = netcdf_dataset(fname)"
   ]
  },
  {
   "cell_type": "code",
   "execution_count": 4,
   "id": "9c4906aa",
   "metadata": {},
   "outputs": [],
   "source": [
    "#dataset"
   ]
  },
  {
   "cell_type": "markdown",
   "id": "a170508c",
   "metadata": {},
   "source": [
    "# Different variables in nc file\n",
    "- 'time': This variable represents the initial time of forecast in seconds since 1970-01-01.\n",
    "- 'step': This variable represents the time since forecast_reference_time in hours.\n",
    "- 'hybrid': This variable represents the hybrid level.\n",
    "- 'latitude': This variable represents the latitude in degrees north.\n",
    "- longitude: This variable represents the longitude in degrees east.\n",
    "- 'valid_time': This variable represents the time in seconds since 1970-01-01.\n",
    "- 'gh': This variable represents the geopotential height in gpm.\n",
    "- 't': This variable represents the temperature in K.\n",
    "- 'q': This variable represents the specific humidity in kg kg**-1.\n",
    "- 'u': This variable represents the U component of wind in m s**-1.\n",
    "- 'v': This variable represents the V component of wind in m s**-1."
   ]
  },
  {
   "cell_type": "code",
   "execution_count": 5,
   "id": "5ad9444c",
   "metadata": {},
   "outputs": [],
   "source": [
    "#dataset.variables"
   ]
  },
  {
   "cell_type": "markdown",
   "id": "3a0e43df",
   "metadata": {},
   "source": [
    "# Prep & examine variables"
   ]
  },
  {
   "cell_type": "code",
   "execution_count": 6,
   "id": "768d956f",
   "metadata": {},
   "outputs": [],
   "source": [
    "u_wind = dataset.variables['u'][:]\n",
    "v_wind = dataset.variables['v'][:]"
   ]
  },
  {
   "cell_type": "code",
   "execution_count": 7,
   "id": "bdf7ba1b",
   "metadata": {},
   "outputs": [],
   "source": [
    "lats = dataset.variables['latitude'][:]\n",
    "lons = dataset.variables['longitude'][:]"
   ]
  },
  {
   "cell_type": "code",
   "execution_count": 8,
   "id": "ff30482f",
   "metadata": {},
   "outputs": [],
   "source": [
    "#lats"
   ]
  },
  {
   "cell_type": "code",
   "execution_count": 9,
   "id": "6cbd0250",
   "metadata": {},
   "outputs": [],
   "source": [
    "#v_wind"
   ]
  },
  {
   "cell_type": "markdown",
   "id": "507e5ffd",
   "metadata": {},
   "source": [
    "# Calculate variables from other vars"
   ]
  },
  {
   "cell_type": "code",
   "execution_count": 10,
   "id": "ec2ffb77",
   "metadata": {},
   "outputs": [],
   "source": [
    "wind_speed = np.sqrt(u_wind**2 + v_wind**2)\n",
    "ws_direction = np.arctan2(v_wind,u_wind)\n",
    "ws_daily_avg = np.nanmean(wind_speed, axis=0)\n",
    "u_daily_avg = np.nanmean(u_wind, axis=0)\n",
    "v_daily_avg = np.nanmean(v_wind, axis=0)\n",
    "ws_daily_avg_direction = np.arctan2(v_daily_avg, u_daily_avg)\n"
   ]
  },
  {
   "cell_type": "code",
   "execution_count": 11,
   "id": "26a9f839",
   "metadata": {},
   "outputs": [
    {
     "data": {
      "text/plain": [
       "masked_array(data=[0.8478495, 0.8327088, 0.8086573, ..., 0.9755575,\n",
       "                   0.9411184, 0.8905726],\n",
       "             mask=False,\n",
       "       fill_value=1e+20,\n",
       "            dtype=float32)"
      ]
     },
     "execution_count": 11,
     "metadata": {},
     "output_type": "execute_result"
    }
   ],
   "source": [
    "ws_daily_avg_direction"
   ]
  },
  {
   "cell_type": "code",
   "execution_count": 12,
   "id": "80f0131c",
   "metadata": {},
   "outputs": [
    {
     "data": {
      "text/plain": [
       "masked_array(\n",
       "  data=[[8.164802551269531, 8.170642852783203, 8.173009872436523, ...,\n",
       "         8.163902282714844, 8.166088104248047, 8.171878814697266],\n",
       "        [8.260150909423828, 8.256536483764648, 8.258674621582031, ...,\n",
       "         8.259781837463379, 8.261749267578125, 8.258098602294922],\n",
       "        [8.214164733886719, 8.216373443603516, 8.212825775146484, ...,\n",
       "         8.20992660522461, 8.215624809265137, 8.208415985107422],\n",
       "        ...,\n",
       "        [4.724668979644775, 4.724235534667969, 4.723822593688965, ...,\n",
       "         4.716110706329346, 4.715612411499023, 4.71513557434082],\n",
       "        [4.7523674964904785, 4.752062797546387, 4.762058734893799, ...,\n",
       "         4.753409385681152, 4.7530412673950195, 4.752694129943848],\n",
       "        [4.581320762634277, 4.581091403961182, 4.590882301330566, ...,\n",
       "         4.582139015197754, 4.581844329833984, 4.581571578979492]],\n",
       "  mask=[[False, False, False, ..., False, False, False],\n",
       "        [False, False, False, ..., False, False, False],\n",
       "        [False, False, False, ..., False, False, False],\n",
       "        ...,\n",
       "        [False, False, False, ..., False, False, False],\n",
       "        [False, False, False, ..., False, False, False],\n",
       "        [False, False, False, ..., False, False, False]],\n",
       "  fill_value=1e+20,\n",
       "  dtype=float32)"
      ]
     },
     "execution_count": 12,
     "metadata": {},
     "output_type": "execute_result"
    }
   ],
   "source": [
    "wind_speed"
   ]
  },
  {
   "cell_type": "code",
   "execution_count": 13,
   "id": "ae07e086",
   "metadata": {},
   "outputs": [],
   "source": [
    "lats = dataset.variables['latitude'][:]\n",
    "lons = dataset.variables['longitude'][:]"
   ]
  },
  {
   "cell_type": "markdown",
   "id": "ee45400d",
   "metadata": {},
   "source": [
    "# Create color maps"
   ]
  },
  {
   "cell_type": "code",
   "execution_count": 14,
   "id": "b32c3a4c",
   "metadata": {},
   "outputs": [],
   "source": [
    "my_cmap = plt.colormaps['twilight']\n",
    "my_cmap2 = plt.colormaps['twilight_shifted']"
   ]
  },
  {
   "cell_type": "markdown",
   "id": "3e6a00a9",
   "metadata": {},
   "source": [
    "# Plot maps"
   ]
  },
  {
   "cell_type": "code",
   "execution_count": null,
   "id": "3f198c0f",
   "metadata": {},
   "outputs": [],
   "source": [
    "plt.figure(figsize=(100,50))\n",
    "ax = plt.axes(projection=ccrs.PlateCarree())\n",
    "\n",
    "plt.contourf(lons, lats, wind_speed, 60,\n",
    "             transform=ccrs.PlateCarree())\n",
    "\n",
    "ax.coastlines()\n",
    "\n",
    "plt.show()"
   ]
  },
  {
   "cell_type": "code",
   "execution_count": null,
   "id": "40088e3e",
   "metadata": {},
   "outputs": [],
   "source": [
    "plt.figure(figsize=(10,5))\n",
    "ax = plt.axes(projection=ccrs.PlateCarree())\n",
    "\n",
    "plt.contourf(lons, lats, wind_speed, 60,\n",
    "             transform=ccrs.PlateCarree(),cmap=my_cmap)\n",
    "\n",
    "ax.coastlines()\n",
    "\n",
    "plt.show()"
   ]
  },
  {
   "cell_type": "code",
   "execution_count": null,
   "id": "fd3bbd0d",
   "metadata": {},
   "outputs": [],
   "source": [
    "plt.figure(figsize=(100,50))\n",
    "ax = plt.axes(projection=ccrs.PlateCarree())\n",
    "\n",
    "plt.contourf(lons, lats, wind_speed, 60,\n",
    "             transform=ccrs.PlateCarree(),cmap=my_cmap2)\n",
    "\n",
    "ax.coastlines()\n",
    "\n",
    "plt.show()"
   ]
  },
  {
   "cell_type": "code",
   "execution_count": null,
   "id": "8113863e",
   "metadata": {},
   "outputs": [],
   "source": [
    "# Set the figure size, projection, and extent\n",
    "fig = plt.figure(figsize=(100,50))\n",
    "ax = plt.axes(projection=ccrs.Robinson())\n",
    "ax.set_global()\n",
    "ax.coastlines(resolution=\"110m\",linewidth=1)\n",
    "ax.gridlines(linestyle='--',color='black')\n",
    "\n",
    "# Plot windspeed:\n",
    "# Set contour levels, then draw the plot and a colorbar\n",
    "clevs = np.arange(0,19,1)\n",
    "plt.contourf(lon, lat, wind_speed, clevs, transform=ccrs.PlateCarree(),cmap=my_cmap)\n",
    "plt.title('Wind Speed', size=30)\n",
    "cb = plt.colorbar(ax=ax, orientation=\"vertical\", pad=0.02, aspect=16, shrink=0.8)\n",
    "cb.set_label('m/s',size=12,rotation=0,labelpad=15)\n",
    "cb.ax.tick_params(labelsize=10)\n",
    "     "
   ]
  },
  {
   "cell_type": "markdown",
   "id": "ba33efa2",
   "metadata": {},
   "source": [
    "# Plot maps with arrows"
   ]
  },
  {
   "cell_type": "code",
   "execution_count": null,
   "id": "f6d8e626",
   "metadata": {},
   "outputs": [],
   "source": [
    "# Set the figure size, projection, and extent\n",
    "fig = plt.figure(figsize=(9,5))\n",
    "ax = plt.axes(projection=ccrs.PlateCarree())\n",
    "ax.set_extent([22, 40, 43, 53], crs=ccrs.PlateCarree())\n",
    "ax.coastlines(resolution=\"50m\",linewidth=1)\n",
    "\n",
    "# Plot windspeed\n",
    "clevs = np.arange(0,14.5,1)\n",
    "plt.contourf(lon, lat, wind_speed, clevs, transform=ccrs.PlateCarree(),cmap=my_cmap)\n",
    "cb = plt.colorbar(ax=ax, orientation=\"vertical\", pad=0.02, aspect=16, shrink=0.8)\n",
    "cb.set_label('m/s',size=14,rotation=0,labelpad=15)\n",
    "cb.ax.tick_params(labelsize=10)\n",
    "# Overlay wind vectors\n",
    "qv = plt.quiver(lon, lat, u_wind, v_wind, scale=1000, color='k')\n",
    "plt.show()"
   ]
  }
 ],
 "metadata": {
  "kernelspec": {
   "display_name": "Python 3 (ipykernel)",
   "language": "python",
   "name": "python3"
  },
  "language_info": {
   "codemirror_mode": {
    "name": "ipython",
    "version": 3
   },
   "file_extension": ".py",
   "mimetype": "text/x-python",
   "name": "python",
   "nbconvert_exporter": "python",
   "pygments_lexer": "ipython3",
   "version": "3.11.4"
  }
 },
 "nbformat": 4,
 "nbformat_minor": 5
}
