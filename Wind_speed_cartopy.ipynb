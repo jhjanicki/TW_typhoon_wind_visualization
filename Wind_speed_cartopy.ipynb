{
 "cells": [
  {
   "cell_type": "markdown",
   "id": "d3fa6eb9",
   "metadata": {},
   "source": [
    "# Install libraries"
   ]
  },
  {
   "cell_type": "code",
   "execution_count": 15,
   "id": "e5ea7d8b",
   "metadata": {},
   "outputs": [],
   "source": [
    "import os\n",
    "import matplotlib.pyplot as plt\n",
    "from netCDF4 import Dataset as netcdf_dataset\n",
    "import numpy as np\n",
    "\n",
    "import cartopy\n",
    "from cartopy import config\n",
    "import cartopy.crs as ccrs\n",
    "import cartopy.feature as cfeature\n"
   ]
  },
  {
   "cell_type": "markdown",
   "id": "d9f2ab78",
   "metadata": {},
   "source": [
    "# Load & examine dataset"
   ]
  },
  {
   "cell_type": "code",
   "execution_count": 16,
   "id": "75f06bd4",
   "metadata": {},
   "outputs": [],
   "source": [
    "fname = 'gdas.t00z.sfluxgrbf000..nc'"
   ]
  },
  {
   "cell_type": "code",
   "execution_count": 17,
   "id": "b7db2b29",
   "metadata": {},
   "outputs": [],
   "source": [
    "dataset = netcdf_dataset(fname)"
   ]
  },
  {
   "cell_type": "code",
   "execution_count": 18,
   "id": "9c4906aa",
   "metadata": {},
   "outputs": [
    {
     "data": {
      "text/plain": [
       "<class 'netCDF4._netCDF4.Dataset'>\n",
       "root group (NETCDF4 data model, file format HDF5):\n",
       "    GRIB_edition: 2\n",
       "    GRIB_centre: kwbc\n",
       "    GRIB_centreDescription: US National Weather Service - NCEP\n",
       "    GRIB_subCentre: 0\n",
       "    Conventions: CF-1.7\n",
       "    institution: US National Weather Service - NCEP\n",
       "    history: 2023-07-06T14:28 GRIB to CDM+CF via cfgrib-0.9.10.1/ecCodes-2.26.0 with {\"source\": \"data/gdas.t00z.sfluxgrbf000/gdas.t00z.sfluxgrbf000.grib2\", \"filter_by_keys\": {\"typeOfLevel\": \"hybrid\"}, \"encode_cf\": [\"parameter\", \"time\", \"geography\", \"vertical\"]}\n",
       "    dimensions(sizes): latitude(1536), longitude(3072)\n",
       "    variables(dimensions): int64 time(), float64 step(), float64 hybrid(), float64 latitude(latitude), float64 longitude(longitude), float64 valid_time(), float32 gh(latitude, longitude), float32 t(latitude, longitude), float32 q(latitude, longitude), float32 u(latitude, longitude), float32 v(latitude, longitude)\n",
       "    groups: "
      ]
     },
     "execution_count": 18,
     "metadata": {},
     "output_type": "execute_result"
    }
   ],
   "source": [
    "dataset"
   ]
  },
  {
   "cell_type": "markdown",
   "id": "a170508c",
   "metadata": {},
   "source": [
    "# Different variables in nc file\n",
    "- 'time': This variable represents the initial time of forecast in seconds since 1970-01-01.\n",
    "- 'step': This variable represents the time since forecast_reference_time in hours.\n",
    "- 'hybrid': This variable represents the hybrid level.\n",
    "- 'latitude': This variable represents the latitude in degrees north.\n",
    "- longitude: This variable represents the longitude in degrees east.\n",
    "- 'valid_time': This variable represents the time in seconds since 1970-01-01.\n",
    "- 'gh': This variable represents the geopotential height in gpm.\n",
    "- 't': This variable represents the temperature in K.\n",
    "- 'q': This variable represents the specific humidity in kg kg**-1.\n",
    "- 'u': This variable represents the U component of wind in m s**-1.\n",
    "- 'v': This variable represents the V component of wind in m s**-1."
   ]
  },
  {
   "cell_type": "code",
   "execution_count": 20,
   "id": "5ad9444c",
   "metadata": {},
   "outputs": [
    {
     "data": {
      "text/plain": [
       "{'time': <class 'netCDF4._netCDF4.Variable'>\n",
       " int64 time()\n",
       "     long_name: initial time of forecast\n",
       "     standard_name: forecast_reference_time\n",
       "     units: seconds since 1970-01-01\n",
       "     calendar: proleptic_gregorian\n",
       " unlimited dimensions: \n",
       " current shape = ()\n",
       " filling on, default _FillValue of -9223372036854775806 used,\n",
       " 'step': <class 'netCDF4._netCDF4.Variable'>\n",
       " float64 step()\n",
       "     _FillValue: nan\n",
       "     long_name: time since forecast_reference_time\n",
       "     standard_name: forecast_period\n",
       "     units: hours\n",
       " unlimited dimensions: \n",
       " current shape = ()\n",
       " filling on,\n",
       " 'hybrid': <class 'netCDF4._netCDF4.Variable'>\n",
       " float64 hybrid()\n",
       "     _FillValue: nan\n",
       "     long_name: hybrid level\n",
       "     units: 1\n",
       "     positive: down\n",
       "     standard_name: atmosphere_hybrid_sigma_pressure_coordinate\n",
       " unlimited dimensions: \n",
       " current shape = ()\n",
       " filling on,\n",
       " 'latitude': <class 'netCDF4._netCDF4.Variable'>\n",
       " float64 latitude(latitude)\n",
       "     _FillValue: nan\n",
       "     units: degrees_north\n",
       "     standard_name: latitude\n",
       "     long_name: latitude\n",
       "     stored_direction: decreasing\n",
       " unlimited dimensions: \n",
       " current shape = (1536,)\n",
       " filling on,\n",
       " 'longitude': <class 'netCDF4._netCDF4.Variable'>\n",
       " float64 longitude(longitude)\n",
       "     _FillValue: nan\n",
       "     units: degrees_east\n",
       "     standard_name: longitude\n",
       "     long_name: longitude\n",
       " unlimited dimensions: \n",
       " current shape = (3072,)\n",
       " filling on,\n",
       " 'valid_time': <class 'netCDF4._netCDF4.Variable'>\n",
       " float64 valid_time()\n",
       "     _FillValue: nan\n",
       "     standard_name: time\n",
       "     long_name: time\n",
       "     units: seconds since 1970-01-01\n",
       "     calendar: proleptic_gregorian\n",
       " unlimited dimensions: \n",
       " current shape = ()\n",
       " filling on,\n",
       " 'gh': <class 'netCDF4._netCDF4.Variable'>\n",
       " float32 gh(latitude, longitude)\n",
       "     _FillValue: nan\n",
       "     GRIB_paramId: 156\n",
       "     GRIB_dataType: fc\n",
       "     GRIB_numberOfPoints: 4718592\n",
       "     GRIB_typeOfLevel: hybrid\n",
       "     GRIB_stepUnits: 1\n",
       "     GRIB_stepType: instant\n",
       "     GRIB_gridType: regular_gg\n",
       "     GRIB_N: 768\n",
       "     GRIB_NV: 0\n",
       "     GRIB_Nx: 3072\n",
       "     GRIB_Ny: 1536\n",
       "     GRIB_cfName: geopotential_height\n",
       "     GRIB_cfVarName: gh\n",
       "     GRIB_gridDefinitionDescription: Gaussian latitude/longitude\n",
       "     GRIB_iDirectionIncrementInDegrees: 0.117188\n",
       "     GRIB_iScansNegatively: 0\n",
       "     GRIB_longitudeOfFirstGridPointInDegrees: 0.0\n",
       "     GRIB_longitudeOfLastGridPointInDegrees: 359.882813\n",
       "     GRIB_missingValue: 9999\n",
       "     GRIB_name: Geopotential height\n",
       "     GRIB_shortName: gh\n",
       "     GRIB_units: gpm\n",
       "     long_name: Geopotential height\n",
       "     units: gpm\n",
       "     standard_name: geopotential_height\n",
       "     coordinates: time step hybrid latitude longitude valid_time\n",
       " unlimited dimensions: \n",
       " current shape = (1536, 3072)\n",
       " filling on,\n",
       " 't': <class 'netCDF4._netCDF4.Variable'>\n",
       " float32 t(latitude, longitude)\n",
       "     _FillValue: nan\n",
       "     GRIB_paramId: 130\n",
       "     GRIB_dataType: fc\n",
       "     GRIB_numberOfPoints: 4718592\n",
       "     GRIB_typeOfLevel: hybrid\n",
       "     GRIB_stepUnits: 1\n",
       "     GRIB_stepType: instant\n",
       "     GRIB_gridType: regular_gg\n",
       "     GRIB_N: 768\n",
       "     GRIB_NV: 0\n",
       "     GRIB_Nx: 3072\n",
       "     GRIB_Ny: 1536\n",
       "     GRIB_cfName: air_temperature\n",
       "     GRIB_cfVarName: t\n",
       "     GRIB_gridDefinitionDescription: Gaussian latitude/longitude\n",
       "     GRIB_iDirectionIncrementInDegrees: 0.117188\n",
       "     GRIB_iScansNegatively: 0\n",
       "     GRIB_longitudeOfFirstGridPointInDegrees: 0.0\n",
       "     GRIB_longitudeOfLastGridPointInDegrees: 359.882813\n",
       "     GRIB_missingValue: 9999\n",
       "     GRIB_name: Temperature\n",
       "     GRIB_shortName: t\n",
       "     GRIB_units: K\n",
       "     long_name: Temperature\n",
       "     units: K\n",
       "     standard_name: air_temperature\n",
       "     coordinates: time step hybrid latitude longitude valid_time\n",
       " unlimited dimensions: \n",
       " current shape = (1536, 3072)\n",
       " filling on,\n",
       " 'q': <class 'netCDF4._netCDF4.Variable'>\n",
       " float32 q(latitude, longitude)\n",
       "     _FillValue: nan\n",
       "     GRIB_paramId: 133\n",
       "     GRIB_dataType: fc\n",
       "     GRIB_numberOfPoints: 4718592\n",
       "     GRIB_typeOfLevel: hybrid\n",
       "     GRIB_stepUnits: 1\n",
       "     GRIB_stepType: instant\n",
       "     GRIB_gridType: regular_gg\n",
       "     GRIB_N: 768\n",
       "     GRIB_NV: 0\n",
       "     GRIB_Nx: 3072\n",
       "     GRIB_Ny: 1536\n",
       "     GRIB_cfName: specific_humidity\n",
       "     GRIB_cfVarName: q\n",
       "     GRIB_gridDefinitionDescription: Gaussian latitude/longitude\n",
       "     GRIB_iDirectionIncrementInDegrees: 0.117188\n",
       "     GRIB_iScansNegatively: 0\n",
       "     GRIB_longitudeOfFirstGridPointInDegrees: 0.0\n",
       "     GRIB_longitudeOfLastGridPointInDegrees: 359.882813\n",
       "     GRIB_missingValue: 9999\n",
       "     GRIB_name: Specific humidity\n",
       "     GRIB_shortName: q\n",
       "     GRIB_units: kg kg**-1\n",
       "     long_name: Specific humidity\n",
       "     units: kg kg**-1\n",
       "     standard_name: specific_humidity\n",
       "     coordinates: time step hybrid latitude longitude valid_time\n",
       " unlimited dimensions: \n",
       " current shape = (1536, 3072)\n",
       " filling on,\n",
       " 'u': <class 'netCDF4._netCDF4.Variable'>\n",
       " float32 u(latitude, longitude)\n",
       "     _FillValue: nan\n",
       "     GRIB_paramId: 131\n",
       "     GRIB_dataType: fc\n",
       "     GRIB_numberOfPoints: 4718592\n",
       "     GRIB_typeOfLevel: hybrid\n",
       "     GRIB_stepUnits: 1\n",
       "     GRIB_stepType: instant\n",
       "     GRIB_gridType: regular_gg\n",
       "     GRIB_N: 768\n",
       "     GRIB_NV: 0\n",
       "     GRIB_Nx: 3072\n",
       "     GRIB_Ny: 1536\n",
       "     GRIB_cfName: eastward_wind\n",
       "     GRIB_cfVarName: u\n",
       "     GRIB_gridDefinitionDescription: Gaussian latitude/longitude\n",
       "     GRIB_iDirectionIncrementInDegrees: 0.117188\n",
       "     GRIB_iScansNegatively: 0\n",
       "     GRIB_longitudeOfFirstGridPointInDegrees: 0.0\n",
       "     GRIB_longitudeOfLastGridPointInDegrees: 359.882813\n",
       "     GRIB_missingValue: 9999\n",
       "     GRIB_name: U component of wind\n",
       "     GRIB_shortName: u\n",
       "     GRIB_units: m s**-1\n",
       "     long_name: U component of wind\n",
       "     units: m s**-1\n",
       "     standard_name: eastward_wind\n",
       "     coordinates: time step hybrid latitude longitude valid_time\n",
       " unlimited dimensions: \n",
       " current shape = (1536, 3072)\n",
       " filling on,\n",
       " 'v': <class 'netCDF4._netCDF4.Variable'>\n",
       " float32 v(latitude, longitude)\n",
       "     _FillValue: nan\n",
       "     GRIB_paramId: 132\n",
       "     GRIB_dataType: fc\n",
       "     GRIB_numberOfPoints: 4718592\n",
       "     GRIB_typeOfLevel: hybrid\n",
       "     GRIB_stepUnits: 1\n",
       "     GRIB_stepType: instant\n",
       "     GRIB_gridType: regular_gg\n",
       "     GRIB_N: 768\n",
       "     GRIB_NV: 0\n",
       "     GRIB_Nx: 3072\n",
       "     GRIB_Ny: 1536\n",
       "     GRIB_cfName: northward_wind\n",
       "     GRIB_cfVarName: v\n",
       "     GRIB_gridDefinitionDescription: Gaussian latitude/longitude\n",
       "     GRIB_iDirectionIncrementInDegrees: 0.117188\n",
       "     GRIB_iScansNegatively: 0\n",
       "     GRIB_longitudeOfFirstGridPointInDegrees: 0.0\n",
       "     GRIB_longitudeOfLastGridPointInDegrees: 359.882813\n",
       "     GRIB_missingValue: 9999\n",
       "     GRIB_name: V component of wind\n",
       "     GRIB_shortName: v\n",
       "     GRIB_units: m s**-1\n",
       "     long_name: V component of wind\n",
       "     units: m s**-1\n",
       "     standard_name: northward_wind\n",
       "     coordinates: time step hybrid latitude longitude valid_time\n",
       " unlimited dimensions: \n",
       " current shape = (1536, 3072)\n",
       " filling on}"
      ]
     },
     "execution_count": 20,
     "metadata": {},
     "output_type": "execute_result"
    }
   ],
   "source": [
    "dataset.variables"
   ]
  },
  {
   "cell_type": "markdown",
   "id": "3a0e43df",
   "metadata": {},
   "source": [
    "# Prep & examine variables"
   ]
  },
  {
   "cell_type": "code",
   "execution_count": 21,
   "id": "768d956f",
   "metadata": {},
   "outputs": [],
   "source": [
    "u_wind = dataset.variables['u'][:]\n",
    "v_wind = dataset.variables['v'][:]"
   ]
  },
  {
   "cell_type": "code",
   "execution_count": 22,
   "id": "bdf7ba1b",
   "metadata": {},
   "outputs": [],
   "source": [
    "lats = dataset.variables['latitude'][:]\n",
    "lons = dataset.variables['longitude'][:]"
   ]
  },
  {
   "cell_type": "code",
   "execution_count": 23,
   "id": "ff30482f",
   "metadata": {},
   "outputs": [
    {
     "data": {
      "text/plain": [
       "masked_array(data=[ 89.91032453,  89.79415739,  89.67730421, ...,\n",
       "                   -89.67730421, -89.79415739, -89.91032453],\n",
       "             mask=False,\n",
       "       fill_value=1e+20)"
      ]
     },
     "execution_count": 23,
     "metadata": {},
     "output_type": "execute_result"
    }
   ],
   "source": [
    "lats"
   ]
  },
  {
   "cell_type": "code",
   "execution_count": 24,
   "id": "6cbd0250",
   "metadata": {},
   "outputs": [
    {
     "data": {
      "text/plain": [
       "masked_array(\n",
       "  data=[[ 2.88,  2.87,  2.85, ...,  2.93,  2.91,  2.9 ],\n",
       "        [ 2.99,  2.98,  2.96, ...,  3.04,  3.02,  3.01],\n",
       "        [ 2.94,  2.92,  2.91, ...,  2.98,  2.97,  2.95],\n",
       "        ...,\n",
       "        [-4.72, -4.72, -4.72, ..., -4.71, -4.71, -4.71],\n",
       "        [-4.75, -4.75, -4.76, ..., -4.75, -4.75, -4.75],\n",
       "        [-4.58, -4.58, -4.59, ..., -4.58, -4.58, -4.58]],\n",
       "  mask=False,\n",
       "  fill_value=1e+20,\n",
       "  dtype=float32)"
      ]
     },
     "execution_count": 24,
     "metadata": {},
     "output_type": "execute_result"
    }
   ],
   "source": [
    "v_wind"
   ]
  },
  {
   "cell_type": "markdown",
   "id": "507e5ffd",
   "metadata": {},
   "source": [
    "# Calculate variables from other vars"
   ]
  },
  {
   "cell_type": "code",
   "execution_count": 25,
   "id": "ec2ffb77",
   "metadata": {},
   "outputs": [],
   "source": [
    "wind_speed = np.sqrt(u_wind**2 + v_wind**2)\n",
    "ws_direction = np.arctan2(v_wind,u_wind)\n",
    "ws_daily_avg = np.nanmean(wind_speed, axis=0)\n",
    "u_daily_avg = np.nanmean(u_wind, axis=0)\n",
    "v_daily_avg = np.nanmean(v_wind, axis=0)\n",
    "ws_daily_avg_direction = np.arctan2(v_daily_avg, u_daily_avg)\n"
   ]
  },
  {
   "cell_type": "code",
   "execution_count": 26,
   "id": "26a9f839",
   "metadata": {},
   "outputs": [
    {
     "data": {
      "text/plain": [
       "masked_array(data=[0.8478495, 0.8327088, 0.8086573, ..., 0.9755575,\n",
       "                   0.9411184, 0.8905726],\n",
       "             mask=False,\n",
       "       fill_value=1e+20,\n",
       "            dtype=float32)"
      ]
     },
     "execution_count": 26,
     "metadata": {},
     "output_type": "execute_result"
    }
   ],
   "source": [
    "ws_daily_avg_direction"
   ]
  },
  {
   "cell_type": "code",
   "execution_count": 27,
   "id": "80f0131c",
   "metadata": {},
   "outputs": [
    {
     "data": {
      "text/plain": [
       "masked_array(\n",
       "  data=[[8.164802551269531, 8.170642852783203, 8.173009872436523, ...,\n",
       "         8.163902282714844, 8.166088104248047, 8.171878814697266],\n",
       "        [8.260150909423828, 8.256536483764648, 8.258674621582031, ...,\n",
       "         8.259781837463379, 8.261749267578125, 8.258098602294922],\n",
       "        [8.214164733886719, 8.216373443603516, 8.212825775146484, ...,\n",
       "         8.20992660522461, 8.215624809265137, 8.208415985107422],\n",
       "        ...,\n",
       "        [4.724668979644775, 4.724235534667969, 4.723822593688965, ...,\n",
       "         4.716110706329346, 4.715612411499023, 4.71513557434082],\n",
       "        [4.7523674964904785, 4.752062797546387, 4.762058734893799, ...,\n",
       "         4.753409385681152, 4.7530412673950195, 4.752694129943848],\n",
       "        [4.581320762634277, 4.581091403961182, 4.590882301330566, ...,\n",
       "         4.582139015197754, 4.581844329833984, 4.581571578979492]],\n",
       "  mask=[[False, False, False, ..., False, False, False],\n",
       "        [False, False, False, ..., False, False, False],\n",
       "        [False, False, False, ..., False, False, False],\n",
       "        ...,\n",
       "        [False, False, False, ..., False, False, False],\n",
       "        [False, False, False, ..., False, False, False],\n",
       "        [False, False, False, ..., False, False, False]],\n",
       "  fill_value=1e+20,\n",
       "  dtype=float32)"
      ]
     },
     "execution_count": 27,
     "metadata": {},
     "output_type": "execute_result"
    }
   ],
   "source": [
    "wind_speed"
   ]
  },
  {
   "cell_type": "code",
   "execution_count": 28,
   "id": "ae07e086",
   "metadata": {},
   "outputs": [],
   "source": [
    "lats = dataset.variables['latitude'][:]\n",
    "lons = dataset.variables['longitude'][:]"
   ]
  },
  {
   "cell_type": "markdown",
   "id": "ee45400d",
   "metadata": {},
   "source": [
    "# Create color maps"
   ]
  },
  {
   "cell_type": "code",
   "execution_count": null,
   "id": "b32c3a4c",
   "metadata": {},
   "outputs": [],
   "source": [
    "my_cmap = plt.colormaps['twilight']\n",
    "my_cmap2 = plt.colormaps['twilight_shifted']"
   ]
  },
  {
   "cell_type": "markdown",
   "id": "3e6a00a9",
   "metadata": {},
   "source": [
    "# Plot maps"
   ]
  },
  {
   "cell_type": "code",
   "execution_count": null,
   "id": "3f198c0f",
   "metadata": {},
   "outputs": [],
   "source": [
    "plt.figure(figsize=(100,50))\n",
    "ax = plt.axes(projection=ccrs.PlateCarree())\n",
    "\n",
    "plt.contourf(lons, lats, wind_speed, 60,\n",
    "             transform=ccrs.PlateCarree())\n",
    "\n",
    "ax.coastlines()\n",
    "\n",
    "plt.show()"
   ]
  },
  {
   "cell_type": "code",
   "execution_count": null,
   "id": "40088e3e",
   "metadata": {},
   "outputs": [],
   "source": [
    "plt.figure(figsize=(10,5))\n",
    "ax = plt.axes(projection=ccrs.PlateCarree())\n",
    "\n",
    "plt.contourf(lons, lats, wind_speed, 60,\n",
    "             transform=ccrs.PlateCarree(),cmap=my_cmap)\n",
    "\n",
    "ax.coastlines()\n",
    "\n",
    "plt.show()"
   ]
  },
  {
   "cell_type": "code",
   "execution_count": null,
   "id": "fd3bbd0d",
   "metadata": {},
   "outputs": [],
   "source": [
    "plt.figure(figsize=(100,50))\n",
    "ax = plt.axes(projection=ccrs.PlateCarree())\n",
    "\n",
    "plt.contourf(lons, lats, wind_speed, 60,\n",
    "             transform=ccrs.PlateCarree(),cmap=my_cmap2)\n",
    "\n",
    "ax.coastlines()\n",
    "\n",
    "plt.show()"
   ]
  },
  {
   "cell_type": "code",
   "execution_count": null,
   "id": "8113863e",
   "metadata": {},
   "outputs": [],
   "source": [
    "# Set the figure size, projection, and extent\n",
    "fig = plt.figure(figsize=(100,50))\n",
    "ax = plt.axes(projection=ccrs.Robinson())\n",
    "ax.set_global()\n",
    "ax.coastlines(resolution=\"110m\",linewidth=1)\n",
    "ax.gridlines(linestyle='--',color='black')\n",
    "\n",
    "# Plot windspeed:\n",
    "# Set contour levels, then draw the plot and a colorbar\n",
    "clevs = np.arange(0,19,1)\n",
    "plt.contourf(lon, lat, wind_speed, clevs, transform=ccrs.PlateCarree(),cmap=my_cmap)\n",
    "plt.title('Wind Speed', size=30)\n",
    "cb = plt.colorbar(ax=ax, orientation=\"vertical\", pad=0.02, aspect=16, shrink=0.8)\n",
    "cb.set_label('m/s',size=12,rotation=0,labelpad=15)\n",
    "cb.ax.tick_params(labelsize=10)\n",
    "     "
   ]
  },
  {
   "cell_type": "markdown",
   "id": "ba33efa2",
   "metadata": {},
   "source": [
    "# Plot maps with arrows"
   ]
  },
  {
   "cell_type": "code",
   "execution_count": null,
   "id": "f6d8e626",
   "metadata": {},
   "outputs": [],
   "source": [
    "# Set the figure size, projection, and extent\n",
    "fig = plt.figure(figsize=(9,5))\n",
    "ax = plt.axes(projection=ccrs.PlateCarree())\n",
    "ax.set_extent([22, 40, 43, 53], crs=ccrs.PlateCarree())\n",
    "ax.coastlines(resolution=\"50m\",linewidth=1)\n",
    "\n",
    "\n",
    "# Plot windspeed\n",
    "clevs = np.arange(0,14.5,1)\n",
    "plt.contourf(lon, lat, wind_speed, clevs, transform=ccrs.PlateCarree(),cmap=my_cmap)\n",
    "cb = plt.colorbar(ax=ax, orientation=\"vertical\", pad=0.02, aspect=16, shrink=0.8)\n",
    "cb.set_label('m/s',size=14,rotation=0,labelpad=15)\n",
    "cb.ax.tick_params(labelsize=10)\n",
    "# Overlay wind vectors\n",
    "qv = plt.quiver(lon, lat, u_wind, v_wind, scale=1000, color='k')\n",
    "plt.show()"
   ]
  },
  {
   "cell_type": "code",
   "execution_count": null,
   "id": "341a7c78",
   "metadata": {},
   "outputs": [],
   "source": []
  },
  {
   "cell_type": "code",
   "execution_count": null,
   "id": "dd18c041",
   "metadata": {},
   "outputs": [],
   "source": []
  }
 ],
 "metadata": {
  "kernelspec": {
   "display_name": "Python 3 (ipykernel)",
   "language": "python",
   "name": "python3"
  },
  "language_info": {
   "codemirror_mode": {
    "name": "ipython",
    "version": 3
   },
   "file_extension": ".py",
   "mimetype": "text/x-python",
   "name": "python",
   "nbconvert_exporter": "python",
   "pygments_lexer": "ipython3",
   "version": "3.11.4"
  }
 },
 "nbformat": 4,
 "nbformat_minor": 5
}
